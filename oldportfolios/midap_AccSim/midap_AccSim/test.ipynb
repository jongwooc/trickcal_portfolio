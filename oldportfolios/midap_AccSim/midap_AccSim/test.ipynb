{
 "cells": [
  {
   "cell_type": "code",
   "execution_count": null,
   "metadata": {},
   "outputs": [],
   "source": [
    "import numpy as np\n",
    "\n",
    "from test_wrapper import TestWrapper\n",
    "\n",
    "import models.examples as ex\n",
    "import models.se_resnet as se_resnet\n",
    "import models.resnet as resnet\n",
    "from config import cfg\n"
   ]
  },
  {
   "cell_type": "code",
   "execution_count": null,
   "metadata": {},
   "outputs": [],
   "source": [
    "tr = TestWrapper()\n",
    "cfg.MIDAP.CONTROL_STRATEGY.FILTER_LOAD = 'ONE'\n",
    "cfg.MIDAP.CONTROL_STRATEGY.LAYER_COMPILER = 'HIDE_DRAM_LATENCY'\n"
   ]
  },
  {
   "cell_type": "code",
   "execution_count": null,
   "metadata": {},
   "outputs": [],
   "source": [
    "custom_test_list = {\n",
    "    'se_resnet50': se_resnet.se_resnet50,\n",
    "    #'se_resnet101': se_resnet.se_resnet101,\n",
    "    #'se_resnet152': se_resnet.se_resnet152,\n",
    "}"
   ]
  },
  {
   "cell_type": "code",
   "execution_count": null,
   "metadata": {},
   "outputs": [],
   "source": [
    "\n",
    "for network in custom_test_list:\n",
    "    tensor_shape = (1, 1, 128, 128) if network == 'unet' else (1, 3, 224, 224)\n",
    "        \n",
    "    tr.run_all(\"custom\", custom_test_list[network](softmax = True), tensor_shape)\n",
    "    tr.output_dma_trace('memory_trace/' + network + '.txt')"
   ]
  },
  {
   "cell_type": "code",
   "execution_count": null,
   "metadata": {},
   "outputs": [],
   "source": [
    "#tr.midap_model['Linear2'].next.remove(tr.midap_model['Mul1'])\n",
    "a = tr.midap_model['Linear2'].input[0].output_tensor\n",
    "a1 = np.average(a, axis=0)\n",
    "a2 = np.average(a1, axis=0)\n",
    "a2"
   ]
  },
  {
   "cell_type": "code",
   "execution_count": null,
   "metadata": {},
   "outputs": [],
   "source": [
    "b = tr.midap_simulator.memory_manager.dram_dict['Linear2'][0,0,:]\n",
    "b"
   ]
  },
  {
   "cell_type": "code",
   "execution_count": null,
   "metadata": {},
   "outputs": [],
   "source": [
    "np.sum(tr.midap_simulator.diff_dict['Mul1'][:,:,128:])\n"
   ]
  },
  {
   "cell_type": "code",
   "execution_count": null,
   "metadata": {},
   "outputs": [],
   "source": [
    "tr.midap_model['Linear2'].output_tensor.shape"
   ]
  },
  {
   "cell_type": "code",
   "execution_count": null,
   "metadata": {},
   "outputs": [],
   "source": [
    "tr.midap_simulator.memory_manager.wmem[1][0][:256]"
   ]
  },
  {
   "cell_type": "code",
   "execution_count": null,
   "metadata": {},
   "outputs": [],
   "source": [
    "tr.midap_simulator.memory_manager.filter"
   ]
  },
  {
   "cell_type": "code",
   "execution_count": null,
   "metadata": {},
   "outputs": [],
   "source": [
    "test_list = [\n",
    "    #\"mobilenet\",\n",
    "    \"inception_v3\",\n",
    "    #\"mobilenet_v2\",\n",
    "    #\"resnet50_no_fc\"\n",
    "]\n",
    "for network in test_list:\n",
    "    tr.run_all(\"caffe2\", network, (1, 3, 299, 299))\n",
    "    tr.output_dma_trace('memory_trace/' + network + '.txt')"
   ]
  },
  {
   "cell_type": "code",
   "execution_count": null,
   "metadata": {},
   "outputs": [],
   "source": [
    "[x.name for x in tr.midap_model['Concat_4'].input]"
   ]
  },
  {
   "cell_type": "code",
   "execution_count": null,
   "metadata": {},
   "outputs": [],
   "source": [
    "tr.midap_model['Conv_27'].control_info.output_mapping"
   ]
  },
  {
   "cell_type": "code",
   "execution_count": null,
   "metadata": {},
   "outputs": [],
   "source": [
    "tr.midap_model['Conv_30'].control_info.output_stationary"
   ]
  },
  {
   "cell_type": "code",
   "execution_count": null,
   "metadata": {},
   "outputs": [],
   "source": [
    "tr.midap_model['MaxPool_3'].control_info.output_stationary"
   ]
  },
  {
   "cell_type": "code",
   "execution_count": null,
   "metadata": {},
   "outputs": [],
   "source": []
  }
 ],
 "metadata": {
  "kernelspec": {
   "display_name": "Pytorch",
   "language": "python",
   "name": "pytorch"
  },
  "language_info": {
   "codemirror_mode": {
    "name": "ipython",
    "version": 2
   },
   "file_extension": ".py",
   "mimetype": "text/x-python",
   "name": "python",
   "nbconvert_exporter": "python",
   "pygments_lexer": "ipython2",
   "version": "2.7.15"
  }
 },
 "nbformat": 4,
 "nbformat_minor": 2
}
